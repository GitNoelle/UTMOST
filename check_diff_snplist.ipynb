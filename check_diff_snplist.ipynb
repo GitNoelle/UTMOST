{
 "cells": [
  {
   "cell_type": "markdown",
   "metadata": {},
   "source": [
    "### module loading"
   ]
  },
  {
   "cell_type": "code",
   "execution_count": 3,
   "metadata": {
    "collapsed": true
   },
   "outputs": [],
   "source": [
    "import logging\n",
    "import numpy as np\n",
    "import pickle\n",
    "import os\n",
    "import gzip\n",
    "import ntpath\n",
    "import metax.WeightDBUtilities as WeightDBUtilities\n",
    "import metax.PrediXcanFormatUtilities as PrediXcanFormatUtilities\n",
    "import metax.ThousandGenomesUtilities as ThousandGenomesUtilities\n",
    "import metax.Logging as Logging\n",
    "import metax.Utilities as Utilities\n",
    "import metax.Formats as Formats\n",
    "import pandas as pd"
   ]
  },
  {
   "cell_type": "markdown",
   "metadata": {},
   "source": [
    "\n",
    "### Get SNPs"
   ]
  },
  {
   "cell_type": "code",
   "execution_count": 4,
   "metadata": {
    "collapsed": true
   },
   "outputs": [],
   "source": [
    "def getSNPS(name, weight_db_logic):\n",
    "    dosageLoader = None\n",
    "    dosageName = Utilities.dosageName(name)\n",
    "    path = os.path.join(data_folder, dosageName)\n",
    "    dosageLoader = PrediXcanFormatUtilities.PrediXcanFormatDosageLoader(path, weight_db_logic)\n",
    "    snps, snps_by_rsid = dosageLoader.load()\n",
    "    return snps, snps_by_rsid\n",
    "\n",
    "def getSNPSWeightdbDosage(gene, name, weight_db_logic):\n",
    "    weights_in_gene = weight_db_logic.weights_by_gene[gene]\n",
    "    rsids_from_genes = weights_in_gene.keys()\n",
    "    snps, snps_by_rsid = getSNPS(name, weight_db_logic)\n",
    "    index = match_list(rsids_from_genes, snps)\n",
    "    snps_match = snps[index > -1]\n",
    "    return rsids_from_genes, snps_match\n",
    "\n",
    "# function of matching two lists\n",
    "def match_list(a, b):\n",
    "    \"\"\" find the indices of matching element \n",
    "    :param  a: list a \n",
    "            b: list b\n",
    "    :return: The indices of elements in list a in list b \n",
    "    \"\"\"\n",
    "    return np.array([ b.index(x) if x in b else -1 for x in a ])"
   ]
  },
  {
   "cell_type": "markdown",
   "metadata": {},
   "source": [
    "\n",
    "### gene chr dict"
   ]
  },
  {
   "cell_type": "code",
   "execution_count": 5,
   "metadata": {},
   "outputs": [],
   "source": [
    "dosage_folder = \"/ysm-gpfs/pi/zhao/ml2376/1000g_phase3/dosage/\"\n",
    "names = Utilities.dosageNamesFromFolder(dosage_folder)"
   ]
  },
  {
   "cell_type": "code",
   "execution_count": 6,
   "metadata": {},
   "outputs": [],
   "source": [
    "fi = []\n",
    "gene_chr_dict = {}\n",
    "for file in sorted(os.listdir(dosage_folder)):\n",
    "    if file.endswith(\"dosage.gz\"):\n",
    "        fi.append(file)\n"
   ]
  },
  {
   "cell_type": "code",
   "execution_count": 17,
   "metadata": {},
   "outputs": [
    {
     "data": {
      "text/plain": [
       "'1 rs75454623 14930 A G 0.01 1 1 1 1 1 1 1 1 1 1 1 1 1 2 1 1 1 1 1 1 1 1 1 1 1 1 1 1 1 1 1 1 1 1 1 1 1 1 1 1 2 1 1 2 1 1 1 1 1 1 1 2 1 1 2 1 1 1 1 2 1 1 1 1 1 1 1 1 1 1 1 1 1 1 2 1 1 1 1 1 0 1 1 1 1 1 0 0 1 1 1 1 1 1 1 1 1 1 2 1 1 2 1 1 1 1 1 1 1 1 1 1 1 1 1 1 1 1 1 1 1 1 2 0 1 1 1 1 1 1 1 0 1 1 1 1 1 1 1 1 1 1 1 2 2 1 0 2 1 1 1 2 1 1 1 2 2 1 1 1 1 1 0 1 1 1 1 0 1 1 1 1 1 1 0 1 1 2 1 1 1 1 1 0 1 1 2 0 1 1 1 1 1 1 1 1 1 1 1 1 1 1 0 1 1 1 1 1 1 1 1 1 1 1 1 1 1 2 1 1 1 1 1 1 0 1 1 0 1 1 1 2 1 1 1 1 1 1 1 1 1 1 1 1 1 1 1 1 1 1 1 1 1 1 2 1 1 1 2 1 1 1 1 1 1 1 1 1 1 1 1 1 1 1 1 1 1 1 1 1 1 1 2 1 1 1 1 1 1 2 1 1 1 1 1 1 1 1 1 1 1 1 2 1 1 2 1 1 1 1 2 1 1 1 1 1 1 0 1 1 1 1 1 1 1 1 2 1 1 1 1 1 1 1 1 1 1 1 1 1 1 1 1 1 1 1 1 1 1 1 1 1 1 1 1 1 1 0 1 1 1 1 1 1 1 1 1 1 1 1 1 1 1 1 1 1 1 1 1 0 1 1 1 1 1 1 1 1 1 1 1 1 1 2 1 1 2 1 1 1 1 1 1 1 2 1 1 2 1 1 1 2 1 1 1 1 1 1 1 1 1 2 1 1 1 1 1 1 1 1 1 1 1 1 1 1 1 1 1 1 1 1 1 1 1 1 1 1 1 1 1 1 1 1 1 1 1 1 1 1 2 1 1 1 1 2 1 1 1 1 1 1 1 1 1 1 1 0 1 2 1 1 1 1 1 1 1 2 1 1 1 1 1 1 1 1 1 1 1 1 1 1 2\\n'"
      ]
     },
     "execution_count": 17,
     "metadata": {},
     "output_type": "execute_result"
    }
   ],
   "source": [
    "fi_tmp = gzip.open(dosage_folder + fi[0],\"rb\")\n",
    "fi_tmp.readline()"
   ]
  },
  {
   "cell_type": "code",
   "execution_count": null,
   "metadata": {
    "collapsed": true
   },
   "outputs": [],
   "source": []
  },
  {
   "cell_type": "code",
   "execution_count": null,
   "metadata": {
    "collapsed": true
   },
   "outputs": [],
   "source": [
    "for dosage_file in fi:\n",
    "    with gzip.open(dosage_file,\"rb\") as fi:\n",
    "        for line in fi:\n",
    "            tmpline = line.strip().split()\n",
    "            if tmpline[1].decode(\"utf-8\") == rsid1:\n",
    "                seq1 = list(map(lambda x: float(x.decode(\"utf-8\")),tmpline[6:]))\n",
    "                print(seq1)\n",
    "            if tmpline[1].decode(\"utf-8\") == rsid2:\n",
    "                seq2 = list(map(lambda x: float(x.decode(\"utf-8\")),tmpline[6:]))\n",
    "                print(seq2)\n",
    "            if (len(seq1) != 0) and (len(seq2) != 0):\n",
    "                print(np.cov(seq1, seq2))\n",
    "                break"
   ]
  },
  {
   "cell_type": "code",
   "execution_count": null,
   "metadata": {
    "collapsed": true
   },
   "outputs": [],
   "source": []
  },
  {
   "cell_type": "code",
   "execution_count": null,
   "metadata": {
    "collapsed": true
   },
   "outputs": [],
   "source": []
  },
  {
   "cell_type": "markdown",
   "metadata": {},
   "source": [
    "\n",
    "### pickle result loading"
   ]
  },
  {
   "cell_type": "code",
   "execution_count": 7,
   "metadata": {},
   "outputs": [
    {
     "data": {
      "text/plain": [
       "['EUR.chr22',\n",
       " 'EUR.chr4',\n",
       " 'EUR.chr18',\n",
       " 'EUR.chr2',\n",
       " 'EUR.chr1',\n",
       " 'EUR.chr11',\n",
       " 'EUR.chr14',\n",
       " 'EUR.chr7',\n",
       " 'EUR.chr8',\n",
       " 'EUR.chr10',\n",
       " 'EUR.chr13',\n",
       " 'EUR.chr3',\n",
       " 'EUR.chr15',\n",
       " 'EUR.chr17',\n",
       " 'EUR.chr20',\n",
       " 'EUR.chr5',\n",
       " 'EUR.chr19',\n",
       " 'EUR.chr6',\n",
       " 'EUR.chr9',\n",
       " 'EUR.chr12',\n",
       " 'EUR.chr16',\n",
       " 'EUR.chr21']"
      ]
     },
     "execution_count": 7,
     "metadata": {},
     "output_type": "execute_result"
    }
   ],
   "source": [
    "pickle_in = open(\"database/db_logic/db_weight_logic.pickle\",\"rb\")\n",
    "tmp_logic_object = pickle.load(pickle_in)\n",
    "pickle_in.close() \n",
    "weight_db_logic = tmp_logic_object\n",
    "names"
   ]
  },
  {
   "cell_type": "markdown",
   "metadata": {},
   "source": [
    "\n",
    "### gene name"
   ]
  },
  {
   "cell_type": "code",
   "execution_count": 20,
   "metadata": {
    "collapsed": true
   },
   "outputs": [],
   "source": [
    "gene = \"ITGA4\"\n",
    "name = \"EUR.chr2\""
   ]
  },
  {
   "cell_type": "code",
   "execution_count": 1,
   "metadata": {},
   "outputs": [
    {
     "ename": "NameError",
     "evalue": "name 'getSNPSWeightdbDosage' is not defined",
     "output_type": "error",
     "traceback": [
      "\u001b[0;31m--------------------------------------------------------------------\u001b[0m",
      "\u001b[0;31mNameError\u001b[0m                          Traceback (most recent call last)",
      "\u001b[0;32m<ipython-input-1-9cdd3e6820a8>\u001b[0m in \u001b[0;36m<module>\u001b[0;34m()\u001b[0m\n\u001b[1;32m      1\u001b[0m \u001b[0;31m### check the results\u001b[0m\u001b[0;34m\u001b[0m\u001b[0;34m\u001b[0m\u001b[0m\n\u001b[0;32m----> 2\u001b[0;31m \u001b[0msnps_from_db\u001b[0m\u001b[0;34m,\u001b[0m \u001b[0msnps_from_dosage\u001b[0m \u001b[0;34m=\u001b[0m \u001b[0mgetSNPSWeightdbDosage\u001b[0m\u001b[0;34m(\u001b[0m\u001b[0mgene\u001b[0m\u001b[0;34m,\u001b[0m \u001b[0mname\u001b[0m\u001b[0;34m,\u001b[0m \u001b[0mweight_db_logic\u001b[0m\u001b[0;34m)\u001b[0m\u001b[0;34m\u001b[0m\u001b[0m\n\u001b[0m",
      "\u001b[0;31mNameError\u001b[0m: name 'getSNPSWeightdbDosage' is not defined"
     ]
    }
   ],
   "source": [
    "### check the results\n",
    "snps_from_db, snps_from_dosage = getSNPSWeightdbDosage(gene, name, weight_db_logic)\n"
   ]
  },
  {
   "cell_type": "code",
   "execution_count": 24,
   "metadata": {},
   "outputs": [
    {
     "data": {
      "text/plain": [
       "1336"
      ]
     },
     "execution_count": 24,
     "metadata": {},
     "output_type": "execute_result"
    }
   ],
   "source": [
    "len(snps_from_db)"
   ]
  },
  {
   "cell_type": "code",
   "execution_count": 25,
   "metadata": {},
   "outputs": [
    {
     "data": {
      "text/plain": [
       "980637"
      ]
     },
     "execution_count": 25,
     "metadata": {},
     "output_type": "execute_result"
    }
   ],
   "source": [
    "len(snps_from_dosage)"
   ]
  }
 ],
 "metadata": {
  "kernelspec": {
   "display_name": "Python 2",
   "language": "python",
   "name": "python2"
  }
 },
 "nbformat": 4,
 "nbformat_minor": 2
}
