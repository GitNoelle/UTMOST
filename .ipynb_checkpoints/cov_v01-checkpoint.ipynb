{
 "cells": [
  {
   "cell_type": "markdown",
   "metadata": {},
   "source": [
    "### import the main functions"
   ]
  },
  {
   "cell_type": "code",
   "execution_count": 2,
   "metadata": {
    "collapsed": true
   },
   "outputs": [],
   "source": [
    "#!/usr/bin/env python\n",
    "__author__ = 'heroico'\n",
    "\n",
    "import logging\n",
    "import numpy\n",
    "import os\n",
    "import gzip\n",
    "import ntpath\n",
    "import metax.WeightDBUtilities as WeightDBUtilities\n",
    "import metax.PrediXcanFormatUtilities as PrediXcanFormatUtilities\n",
    "import metax.ThousandGenomesUtilities as ThousandGenomesUtilities\n",
    "import metax.Logging as Logging\n",
    "import metax.Utilities as Utilities\n",
    "import metax.Formats as Formats\n",
    "\n",
    "\n",
    "def pathLeaf(path):\n",
    "    head, tail = ntpath.split(path)\n",
    "    return tail or ntpath.basename(head)\n",
    "\n",
    "class ProcessWeightDB(object):\n",
    "    def __init__(self, args):\n",
    "        self.weight_db = pathLeaf(args.weight_db)\n",
    "        self.db_path = args.weight_db\n",
    "        self.data_folder = args.input_folder\n",
    "        self.correlation_output = args.correlation_output\n",
    "        self.covariance_output = args.covariance_output\n",
    "        if args.covariance_output is None:\n",
    "            comp = os.path.splitext(self.weight_db)[0]\n",
    "            name = comp + \".cov.txt.gz\"\n",
    "            path = os.path.join(\"intermediate\", \"cov\")\n",
    "            path = os.path.join(path, name)\n",
    "            self.covariance_output = path\n",
    "\n",
    "        self.input_format = args.input_format\n",
    "\n",
    "        self.found_genes_for_covariance = {}\n",
    "        self.found_genes_for_correlation = {}\n",
    "\n",
    "        self.min_maf_filter = float(args.min_maf_filter) if args.min_maf_filter else None\n",
    "        self.max_maf_filter = float(args.max_maf_filter) if args.max_maf_filter else None\n",
    "\n",
    "        self.max_snps_in_gene = int(args.max_snps_in_gene) if args.max_snps_in_gene else None\n",
    "\n",
    "    def run(self):\n",
    "        if not self.correlation_output and not self.covariance_output:\n",
    "            logging.info(\"Provide --correlation_output or --covariance_output or both\")\n",
    "            return\n",
    "\n",
    "        logging.info(\"Loading Weights\")\n",
    "        weight_db_logic = WeightDBUtilities.WeightDBEntryLogic(self.db_path)\n",
    "\n",
    "        logging.info(\"Building files\")\n",
    "        self.buildFiles(weight_db_logic)\n",
    "\n",
    "        logging.info(\"Ran successfully\")\n",
    "\n",
    "    def buildFiles(self, weight_db_logic):\n",
    "        do_correlations = self.correlation_output is not None\n",
    "        if do_correlations:\n",
    "            if os.path.exists(self.correlation_output):\n",
    "                logging.info(\"%s already exists, delete it if you want it figured out again\", self.correlation_output)\n",
    "                do_correlations = False\n",
    "            else:\n",
    "                correlation_dir = os.path.dirname(self.correlation_output)\n",
    "                if not os.path.exists(correlation_dir):\n",
    "                    os.makedirs(correlation_dir)\n",
    "                self.writeFileHeader(self.correlation_output)\n",
    "\n",
    "        do_covariances = self.covariance_output is not None\n",
    "        if do_covariances:\n",
    "            if os.path.exists(self.covariance_output):\n",
    "                logging.info(\"%s already exists, delete it if you want it figured out again\", self.covariance_output)\n",
    "                do_covariances = False\n",
    "            else:\n",
    "                covariance_dir = os.path.dirname(self.covariance_output)\n",
    "                if not os.path.exists(covariance_dir):\n",
    "                    os.makedirs(covariance_dir)\n",
    "                self.writeFileHeader(self.covariance_output)\n",
    "\n",
    "        if not do_covariances and not do_correlations:\n",
    "            return\n",
    "\n",
    "        names = Utilities.dosageNamesFromFolder(self.data_folder)\n",
    "        for name in names:\n",
    "            snps, snps_by_rsid = self.getSNPS(name, weight_db_logic)\n",
    "            if do_correlations:\n",
    "                self.addToCorrelationFile(weight_db_logic, name, snps, snps_by_rsid)\n",
    "\n",
    "            if do_covariances:\n",
    "                self.addToCovarianceFile(weight_db_logic, name, snps, snps_by_rsid)\n",
    "\n",
    "    def writeFileHeader(self,path):\n",
    "        with gzip.open(path, \"ab\") as file:\n",
    "            file.write(\"GENE RSID1 RSID2 VALUE\\n\")\n",
    "\n",
    "    def getSNPS(self, name, weight_db_logic):\n",
    "        dosageLoader = None\n",
    "        if self.input_format == Formats.IMPUTE:\n",
    "            dosageLoader = ThousandGenomesUtilities.IMPUTEDosageLoader(self.data_folder, name) #outdated code\n",
    "        elif self.input_format == Formats.PrediXcan:\n",
    "            dosageName = Utilities.dosageName(name)\n",
    "            path = os.path.join(self.data_folder, dosageName)\n",
    "            dosageLoader = PrediXcanFormatUtilities.PrediXcanFormatDosageLoader(path, weight_db_logic)\n",
    "        else:\n",
    "            logging.info(\"Invalid input format: %s\", self.input_format)\n",
    "            return\n",
    "        snps, snps_by_rsid = dosageLoader.load()\n",
    "        return snps, snps_by_rsid\n",
    "\n",
    "    def addToCovarianceFile(self, weight_db_logic, name, snps, snps_by_rsid):\n",
    "        logging.info(\"Adding to covariance for %s-%s\", name, self.weight_db)\n",
    "\n",
    "        genes = weight_db_logic.weights_by_gene.keys()\n",
    "        total_genes = len(genes)\n",
    "        last_reported_percent = 0\n",
    "        processed = 0\n",
    "        for gene in genes:\n",
    "            processed += 1\n",
    "            percent = int(processed*100.0 / total_genes)\n",
    "            if percent == last_reported_percent+10:\n",
    "                logging.info(\"%d percent genes processed\", percent)\n",
    "                last_reported_percent = percent\n",
    "\n",
    "            entries = self.buildCovarianceEntries(name, gene, weight_db_logic, snps_by_rsid)\n",
    "\n",
    "            if len(entries) == 0:\n",
    "                logging.log(6,\"Gene %s has no snps in current file\", gene)\n",
    "                continue\n",
    "\n",
    "            self.addToFile(self.covariance_output, gene, entries)\n",
    "\n",
    "    def addToFile(self, path, gene, entries):\n",
    "        with gzip.open(path, \"ab\") as file:\n",
    "            for entry in entries:\n",
    "                line = \" \".join([gene, entry[0], entry[1], entry[2]])+\"\\n\"\n",
    "                file.write(line)\n",
    "\n",
    "    def buildCovarianceEntries(self, name, gene, weight_db_logic, snps_by_rsid):\n",
    "        weights_in_gene = weight_db_logic.weights_by_gene[gene]\n",
    "        rsids_from_genes = weights_in_gene.keys()\n",
    "\n",
    "        #gather as much data as we can work on\n",
    "        related_rsids, related_data = self.buildRelatedData(rsids_from_genes, snps_by_rsid, weights_in_gene)\n",
    "\n",
    "        if len(related_rsids) == 0:\n",
    "            return []\n",
    "\n",
    "        self.updateFoundCovariance(gene, name)\n",
    "\n",
    "        #covariance matrix of related SNP's data\n",
    "        array = numpy.array(related_data)\n",
    "        cov = numpy.cov(array)\n",
    "\n",
    "        #translate into sql entries\n",
    "        entries = self.buildMatrixOutputEntries(cov, rsids_from_genes, related_rsids, snps_by_rsid)\n",
    "        if not len(entries):\n",
    "            raise NameError(\"Couldn not build covariance entries for (%s,%s)\" %(name,gene))\n",
    "        return entries\n",
    "\n",
    "    def updateFoundCovariance(self, gene, name):\n",
    "        found = None\n",
    "        if gene in self.found_genes_for_covariance:\n",
    "            found = self.found_genes_for_covariance[gene]\n",
    "            logging.info(\"Gene %s found again for %s\", gene, name)\n",
    "        else:\n",
    "            found = []\n",
    "            self.found_genes_for_covariance[gene] = found\n",
    "        found.append(name)\n",
    "\n",
    "    def buildRelatedData(self, rsids_from_genes, snps_by_rsid, weights_in_gene):\n",
    "        related_rsids = []\n",
    "        related_data = []\n",
    "\n",
    "        l = len(rsids_from_genes)\n",
    "        if self.max_snps_in_gene and l > self.max_snps_in_gene:\n",
    "            logging.info(\"Skipping covariance too large: %d\", l)\n",
    "            return related_data, related_rsids\n",
    "\n",
    "        for rsid in rsids_from_genes:\n",
    "            if not rsid in snps_by_rsid:\n",
    "                logging.log(5, \"related rsid %s not present in genotype data\", rsid)\n",
    "                continue\n",
    "\n",
    "            related_snp = snps_by_rsid[rsid]\n",
    "            freq = sum(related_snp.data)*1.0/(2*len(related_snp.data))\n",
    "            if self.min_maf_filter and self.min_maf_filter > freq:\n",
    "                logging.log(6, \"related rsid %s below min maf: %s\", rsid, freq)\n",
    "                continue\n",
    "\n",
    "            if self.max_maf_filter and self.max_maf_filter < freq:\n",
    "                logging.log(6, \"related rsid %s  above max maf: %s\", rsid, freq)\n",
    "                continue\n",
    "\n",
    "            data = related_snp.data\n",
    "            weight = weights_in_gene[rsid]\n",
    "            if weight.ref_allele == related_snp.eff_allele and\\\n",
    "                weight.eff_allele == related_snp.ref_allele:\n",
    "                logging.log(7, \"related rsid %s has alleles flipped compared to model, transforming dosage\", rsid)\n",
    "                data = map(lambda x: 2-x, data)\n",
    "\n",
    "            related_data.append(data)\n",
    "            related_rsids.append(rsid)\n",
    "        return related_rsids, related_data\n",
    "\n",
    "    def buildMatrixOutputEntries(self, matrix, rsids_from_genes, related_rsids, snps_by_rsid):\n",
    "        entries = []\n",
    "\n",
    "        #special case: we might have a single rsid!\n",
    "        if matrix.ndim == 0:\n",
    "            c = str(float(matrix))\n",
    "            r = rsids_from_genes[0]\n",
    "            entries.append((r,r,c))\n",
    "            return entries\n",
    "\n",
    "        for i in xrange(0, len(rsids_from_genes)):\n",
    "            rsid_i = rsids_from_genes[i]\n",
    "            related_i = -1\n",
    "            if rsid_i in related_rsids:\n",
    "                related_i = related_rsids.index(rsid_i)\n",
    "\n",
    "            for j in xrange(0, len(rsids_from_genes)):\n",
    "                rsid_j = rsids_from_genes[j]\n",
    "\n",
    "                related_j = -1\n",
    "                if rsid_j in related_rsids:\n",
    "                    related_j = related_rsids.index(rsid_j)\n",
    "\n",
    "                value = \"NA\"\n",
    "                if related_i > -1 and related_j > -1:\n",
    "                    value = str(matrix[related_i][related_j])\n",
    "\n",
    "                if i == j:\n",
    "                    entries.append((rsid_i, rsid_i, value))\n",
    "                else:\n",
    "                    if value == \"NA\":\n",
    "                        if rsid_i < rsid_j:\n",
    "                            entries.append((rsid_i, rsid_j, value))\n",
    "                    else:\n",
    "                        snp_i = snps_by_rsid[rsid_i]\n",
    "                        snp_j = snps_by_rsid[rsid_j]\n",
    "\n",
    "                        if snp_i.position < snp_j.position:\n",
    "                            entries.append((rsid_i, rsid_j, value))\n",
    "        return entries\n",
    "\n",
    "    def addToCorrelationFile(self, weight_db_logic, name, snps, snps_by_rsid):\n",
    "        logging.info(\"Building correlation database for %s-%s\", name, self.weight_db)\n",
    "        genes = weight_db_logic.weights_by_gene.keys()\n",
    "        total_genes = len(genes)\n",
    "        last_reported_percent = 0\n",
    "        processed = 0\n",
    "        for gene in genes:\n",
    "            processed += 1\n",
    "            percent = int(processed*100.0 / total_genes)\n",
    "            if percent == last_reported_percent+10:\n",
    "                logging.info(\"%d percent genes processed\", percent)\n",
    "                last_reported_percent = percent\n",
    "\n",
    "            entries = self.buildCorrelationEntries(name, gene, weight_db_logic, snps_by_rsid)\n",
    "\n",
    "            if len(entries) == 0:\n",
    "                logging.log(6,\"Gene %s has no snps in current file\", gene)\n",
    "                continue\n",
    "\n",
    "            self.addToFile(self.correlation_output, gene, entries)\n",
    "\n",
    "    def buildCorrelationEntries(self, name, gene, weight_db_logic, snps_by_rsid):\n",
    "        weights_in_gene = weight_db_logic.weights_by_gene[gene]\n",
    "        rsids_from_genes = weights_in_gene.keys()\n",
    "\n",
    "        #gather as much data as we can work on\n",
    "        related_rsids, related_data = self.buildRelatedData(rsids_from_genes, snps_by_rsid, weights_in_gene)\n",
    "\n",
    "        if len(related_rsids) == 0:\n",
    "            return []\n",
    "\n",
    "        self.updateFoundCorrelation(gene, name)\n",
    "\n",
    "        #correlation matrix of related SNP's data\n",
    "        array = numpy.array(related_data)\n",
    "        cor = numpy.corrcoef(array)\n",
    "\n",
    "        #translate into sql entries\n",
    "        entries = self.buildMatrixOutputEntries(cor, rsids_from_genes, related_rsids, snps_by_rsid)\n",
    "        if not len(entries):\n",
    "            raise NameError(\"Couldn not build correlation entries for (%s,%s)\" %(name,gene))\n",
    "        return entries\n",
    "\n",
    "    def updateFoundCorrelation(self, gene, name):\n",
    "        found = None\n",
    "        if gene in self.found_genes_for_correlation:\n",
    "            found = self.found_genes_for_correlation[gene]\n",
    "            logging.info(\"Gene %s found again for %s\", gene, name)\n",
    "        else:\n",
    "            found = []\n",
    "            self.found_genes_for_correlation[gene] = found\n",
    "        found.append(name)\n",
    "        "
   ]
  },
  {
   "cell_type": "markdown",
   "metadata": {},
   "source": [
    "### test argument\n"
   ]
  },
  {
   "cell_type": "code",
   "execution_count": 12,
   "metadata": {},
   "outputs": [],
   "source": [
    "import argparse\n"
   ]
  },
  {
   "cell_type": "code",
   "execution_count": null,
   "metadata": {
    "collapsed": true
   },
   "outputs": [],
   "source": []
  },
  {
   "cell_type": "markdown",
   "metadata": {},
   "source": [
    "### R interface\n"
   ]
  },
  {
   "cell_type": "code",
   "execution_count": 5,
   "metadata": {
    "collapsed": true
   },
   "outputs": [],
   "source": [
    "import rpy2\n",
    "\n"
   ]
  },
  {
   "cell_type": "markdown",
   "metadata": {},
   "source": []
  },
  {
   "cell_type": "code",
   "execution_count": 8,
   "metadata": {
    "collapsed": true
   },
   "outputs": [],
   "source": [
    "from rpy2.robjects import r\n",
    "import rpy2.robjects.packages as rpackages"
   ]
  },
  {
   "cell_type": "code",
   "execution_count": 10,
   "metadata": {},
   "outputs": [
    {
     "data": {
      "text/plain": [
       "rpy2.rinterface.NULL"
      ]
     },
     "execution_count": 10,
     "metadata": {},
     "output_type": "execute_result"
    }
   ],
   "source": [
    "utils = rpackages.importr('utils')\n",
    "utils.chooseCRANmirror(ind=1) # select the first mirror in the list\n"
   ]
  },
  {
   "cell_type": "code",
   "execution_count": 11,
   "metadata": {},
   "outputs": [
    {
     "name": "stderr",
     "output_type": "stream",
     "text": [
      "/Users/jerome/anaconda3/envs/metaxcan/lib/python2.7/site-packages/rpy2/rinterface/__init__.py:186: RRuntimeWarning: also installing the dependencies ‘Rcpp’, ‘mvtnorm’, ‘SKAT’, ‘BH’\n",
      "\n",
      "\n",
      "  warnings.warn(x, RRuntimeWarning)\n",
      "/Users/jerome/anaconda3/envs/metaxcan/lib/python2.7/site-packages/rpy2/rinterface/__init__.py:186: RRuntimeWarning: trying URL 'https://cloud.r-project.org/src/contrib/Rcpp_0.12.14.tar.gz'\n",
      "\n",
      "  warnings.warn(x, RRuntimeWarning)\n",
      "/Users/jerome/anaconda3/envs/metaxcan/lib/python2.7/site-packages/rpy2/rinterface/__init__.py:186: RRuntimeWarning: Content type 'application/x-gzip'\n",
      "  warnings.warn(x, RRuntimeWarning)\n",
      "/Users/jerome/anaconda3/envs/metaxcan/lib/python2.7/site-packages/rpy2/rinterface/__init__.py:186: RRuntimeWarning:  length 3756532 bytes (3.6 MB)\n",
      "\n",
      "  warnings.warn(x, RRuntimeWarning)\n",
      "/Users/jerome/anaconda3/envs/metaxcan/lib/python2.7/site-packages/rpy2/rinterface/__init__.py:186: RRuntimeWarning: =\n",
      "  warnings.warn(x, RRuntimeWarning)\n",
      "/Users/jerome/anaconda3/envs/metaxcan/lib/python2.7/site-packages/rpy2/rinterface/__init__.py:186: RRuntimeWarning: \n",
      "\n",
      "  warnings.warn(x, RRuntimeWarning)\n",
      "/Users/jerome/anaconda3/envs/metaxcan/lib/python2.7/site-packages/rpy2/rinterface/__init__.py:186: RRuntimeWarning: downloaded 3.6 MB\n",
      "\n",
      "\n",
      "  warnings.warn(x, RRuntimeWarning)\n",
      "/Users/jerome/anaconda3/envs/metaxcan/lib/python2.7/site-packages/rpy2/rinterface/__init__.py:186: RRuntimeWarning: trying URL 'https://cloud.r-project.org/src/contrib/mvtnorm_1.0-6.tar.gz'\n",
      "\n",
      "  warnings.warn(x, RRuntimeWarning)\n",
      "/Users/jerome/anaconda3/envs/metaxcan/lib/python2.7/site-packages/rpy2/rinterface/__init__.py:186: RRuntimeWarning:  length 159232 bytes (155 KB)\n",
      "\n",
      "  warnings.warn(x, RRuntimeWarning)\n",
      "/Users/jerome/anaconda3/envs/metaxcan/lib/python2.7/site-packages/rpy2/rinterface/__init__.py:186: RRuntimeWarning: downloaded 155 KB\n",
      "\n",
      "\n",
      "  warnings.warn(x, RRuntimeWarning)\n",
      "/Users/jerome/anaconda3/envs/metaxcan/lib/python2.7/site-packages/rpy2/rinterface/__init__.py:186: RRuntimeWarning: trying URL 'https://cloud.r-project.org/src/contrib/SKAT_1.3.2.1.tar.gz'\n",
      "\n",
      "  warnings.warn(x, RRuntimeWarning)\n",
      "/Users/jerome/anaconda3/envs/metaxcan/lib/python2.7/site-packages/rpy2/rinterface/__init__.py:186: RRuntimeWarning:  length 1162383 bytes (1.1 MB)\n",
      "\n",
      "  warnings.warn(x, RRuntimeWarning)\n",
      "/Users/jerome/anaconda3/envs/metaxcan/lib/python2.7/site-packages/rpy2/rinterface/__init__.py:186: RRuntimeWarning: downloaded 1.1 MB\n",
      "\n",
      "\n",
      "  warnings.warn(x, RRuntimeWarning)\n",
      "/Users/jerome/anaconda3/envs/metaxcan/lib/python2.7/site-packages/rpy2/rinterface/__init__.py:186: RRuntimeWarning: trying URL 'https://cloud.r-project.org/src/contrib/BH_1.65.0-1.tar.gz'\n",
      "\n",
      "  warnings.warn(x, RRuntimeWarning)\n",
      "/Users/jerome/anaconda3/envs/metaxcan/lib/python2.7/site-packages/rpy2/rinterface/__init__.py:186: RRuntimeWarning:  length 10839577 bytes (10.3 MB)\n",
      "\n",
      "  warnings.warn(x, RRuntimeWarning)\n",
      "/Users/jerome/anaconda3/envs/metaxcan/lib/python2.7/site-packages/rpy2/rinterface/__init__.py:186: RRuntimeWarning: downloaded 10.3 MB\n",
      "\n",
      "\n",
      "  warnings.warn(x, RRuntimeWarning)\n",
      "/Users/jerome/anaconda3/envs/metaxcan/lib/python2.7/site-packages/rpy2/rinterface/__init__.py:186: RRuntimeWarning: trying URL 'https://cloud.r-project.org/src/contrib/GBJ_0.5.0.tar.gz'\n",
      "\n",
      "  warnings.warn(x, RRuntimeWarning)\n",
      "/Users/jerome/anaconda3/envs/metaxcan/lib/python2.7/site-packages/rpy2/rinterface/__init__.py:186: RRuntimeWarning:  length 48612 bytes (47 KB)\n",
      "\n",
      "  warnings.warn(x, RRuntimeWarning)\n",
      "/Users/jerome/anaconda3/envs/metaxcan/lib/python2.7/site-packages/rpy2/rinterface/__init__.py:186: RRuntimeWarning: downloaded 47 KB\n",
      "\n",
      "\n",
      "  warnings.warn(x, RRuntimeWarning)\n",
      "/Users/jerome/anaconda3/envs/metaxcan/lib/python2.7/site-packages/rpy2/rinterface/__init__.py:186: RRuntimeWarning: \n",
      "  warnings.warn(x, RRuntimeWarning)\n",
      "/Users/jerome/anaconda3/envs/metaxcan/lib/python2.7/site-packages/rpy2/rinterface/__init__.py:186: RRuntimeWarning: The downloaded source packages are in\n",
      "\t‘/private/var/folders/_4/6kyw9fpj2lj83l22xwmfxx6w0000gn/T/RtmprVUnkI/downloaded_packages’\n",
      "  warnings.warn(x, RRuntimeWarning)\n",
      "/Users/jerome/anaconda3/envs/metaxcan/lib/python2.7/site-packages/rpy2/rinterface/__init__.py:186: RRuntimeWarning: Updating HTML index of packages in '.Library'\n",
      "\n",
      "  warnings.warn(x, RRuntimeWarning)\n",
      "/Users/jerome/anaconda3/envs/metaxcan/lib/python2.7/site-packages/rpy2/rinterface/__init__.py:186: RRuntimeWarning: Making 'packages.html' ...\n",
      "  warnings.warn(x, RRuntimeWarning)\n",
      "/Users/jerome/anaconda3/envs/metaxcan/lib/python2.7/site-packages/rpy2/rinterface/__init__.py:186: RRuntimeWarning:  done\n",
      "\n",
      "  warnings.warn(x, RRuntimeWarning)\n"
     ]
    }
   ],
   "source": [
    "# R package names\n",
    "names_to_install = ['GBJ']\n",
    "\n",
    "# R vector of strings\n",
    "from rpy2.robjects.vectors import StrVector\n",
    "\n",
    "# Selectively install what needs to be install.\n",
    "# We are fancy, just because we can.\n",
    "\n",
    "if len(names_to_install) > 0:\n",
    "    utils.install_packages(StrVector(names_to_install))"
   ]
  },
  {
   "cell_type": "code",
   "execution_count": 13,
   "metadata": {},
   "outputs": [
    {
     "name": "stderr",
     "output_type": "stream",
     "text": [
      "/Users/jerome/anaconda3/envs/metaxcan/lib/python2.7/site-packages/rpy2/rinterface/__init__.py:186: RRuntimeWarning: Error in loadNamespace(name) : there is no package called ‘GBJ’\n",
      "\n",
      "  warnings.warn(x, RRuntimeWarning)\n",
      "/Users/jerome/anaconda3/envs/metaxcan/lib/python2.7/site-packages/rpy2/rinterface/__init__.py:186: RRuntimeWarning: In addition: \n",
      "  warnings.warn(x, RRuntimeWarning)\n",
      "/Users/jerome/anaconda3/envs/metaxcan/lib/python2.7/site-packages/rpy2/rinterface/__init__.py:186: RRuntimeWarning: Warning messages:\n",
      "\n",
      "  warnings.warn(x, RRuntimeWarning)\n",
      "/Users/jerome/anaconda3/envs/metaxcan/lib/python2.7/site-packages/rpy2/rinterface/__init__.py:186: RRuntimeWarning: 1: \n",
      "  warnings.warn(x, RRuntimeWarning)\n",
      "/Users/jerome/anaconda3/envs/metaxcan/lib/python2.7/site-packages/rpy2/rinterface/__init__.py:186: RRuntimeWarning: In (function (pkgs, lib, repos = getOption(\"repos\"), contriburl = contrib.url(repos,  :\n",
      "  warnings.warn(x, RRuntimeWarning)\n",
      "/Users/jerome/anaconda3/envs/metaxcan/lib/python2.7/site-packages/rpy2/rinterface/__init__.py:186: RRuntimeWarning: \n",
      " \n",
      "  warnings.warn(x, RRuntimeWarning)\n",
      "/Users/jerome/anaconda3/envs/metaxcan/lib/python2.7/site-packages/rpy2/rinterface/__init__.py:186: RRuntimeWarning:  installation of package ‘Rcpp’ had non-zero exit status\n",
      "\n",
      "  warnings.warn(x, RRuntimeWarning)\n",
      "/Users/jerome/anaconda3/envs/metaxcan/lib/python2.7/site-packages/rpy2/rinterface/__init__.py:186: RRuntimeWarning: 2: \n",
      "  warnings.warn(x, RRuntimeWarning)\n",
      "/Users/jerome/anaconda3/envs/metaxcan/lib/python2.7/site-packages/rpy2/rinterface/__init__.py:186: RRuntimeWarning:  installation of package ‘mvtnorm’ had non-zero exit status\n",
      "\n",
      "  warnings.warn(x, RRuntimeWarning)\n",
      "/Users/jerome/anaconda3/envs/metaxcan/lib/python2.7/site-packages/rpy2/rinterface/__init__.py:186: RRuntimeWarning: 3: \n",
      "  warnings.warn(x, RRuntimeWarning)\n",
      "/Users/jerome/anaconda3/envs/metaxcan/lib/python2.7/site-packages/rpy2/rinterface/__init__.py:186: RRuntimeWarning:  installation of package ‘SKAT’ had non-zero exit status\n",
      "\n",
      "  warnings.warn(x, RRuntimeWarning)\n",
      "/Users/jerome/anaconda3/envs/metaxcan/lib/python2.7/site-packages/rpy2/rinterface/__init__.py:186: RRuntimeWarning: 4: \n",
      "  warnings.warn(x, RRuntimeWarning)\n",
      "/Users/jerome/anaconda3/envs/metaxcan/lib/python2.7/site-packages/rpy2/rinterface/__init__.py:186: RRuntimeWarning:  installation of package ‘GBJ’ had non-zero exit status\n",
      "\n",
      "  warnings.warn(x, RRuntimeWarning)\n"
     ]
    },
    {
     "ename": "RRuntimeError",
     "evalue": "Error in loadNamespace(name) : there is no package called ‘GBJ’\n",
     "output_type": "error",
     "traceback": [
      "\u001b[0;31m---------------------------------------------------------------------------\u001b[0m",
      "\u001b[0;31mRRuntimeError\u001b[0m                             Traceback (most recent call last)",
      "\u001b[0;32m<ipython-input-13-360e9646739d>\u001b[0m in \u001b[0;36m<module>\u001b[0;34m()\u001b[0m\n\u001b[0;32m----> 1\u001b[0;31m \u001b[0mimportr\u001b[0m\u001b[0;34m(\u001b[0m\u001b[0;34m\"GBJ\"\u001b[0m\u001b[0;34m)\u001b[0m\u001b[0;34m\u001b[0m\u001b[0m\n\u001b[0m",
      "\u001b[0;32m/Users/jerome/anaconda3/envs/metaxcan/lib/python2.7/site-packages/rpy2/robjects/packages.pyc\u001b[0m in \u001b[0;36mimportr\u001b[0;34m(name, lib_loc, robject_translations, signature_translation, suppress_messages, on_conflict, symbol_r2python, symbol_check_after, data)\u001b[0m\n\u001b[1;32m    451\u001b[0m     if _package_has_namespace(rname, \n\u001b[1;32m    452\u001b[0m                               _system_file(package = rname)):\n\u001b[0;32m--> 453\u001b[0;31m         \u001b[0menv\u001b[0m \u001b[0;34m=\u001b[0m \u001b[0m_get_namespace\u001b[0m\u001b[0;34m(\u001b[0m\u001b[0mrname\u001b[0m\u001b[0;34m)\u001b[0m\u001b[0;34m\u001b[0m\u001b[0m\n\u001b[0m\u001b[1;32m    454\u001b[0m         \u001b[0mversion\u001b[0m \u001b[0;34m=\u001b[0m \u001b[0m_get_namespace_version\u001b[0m\u001b[0;34m(\u001b[0m\u001b[0mrname\u001b[0m\u001b[0;34m)\u001b[0m\u001b[0;34m[\u001b[0m\u001b[0;36m0\u001b[0m\u001b[0;34m]\u001b[0m\u001b[0;34m\u001b[0m\u001b[0m\n\u001b[1;32m    455\u001b[0m         \u001b[0mexported_names\u001b[0m \u001b[0;34m=\u001b[0m \u001b[0mset\u001b[0m\u001b[0;34m(\u001b[0m\u001b[0m_get_namespace_exports\u001b[0m\u001b[0;34m(\u001b[0m\u001b[0mrname\u001b[0m\u001b[0;34m)\u001b[0m\u001b[0;34m)\u001b[0m\u001b[0;34m\u001b[0m\u001b[0m\n",
      "\u001b[0;31mRRuntimeError\u001b[0m: Error in loadNamespace(name) : there is no package called ‘GBJ’\n"
     ]
    }
   ],
   "source": [
    "importr(\"GBJ\")"
   ]
  },
  {
   "cell_type": "markdown",
   "metadata": {},
   "source": [
    "# db"
   ]
  },
  {
   "cell_type": "code",
   "execution_count": null,
   "metadata": {
    "collapsed": true
   },
   "outputs": [],
   "source": []
  },
  {
   "cell_type": "code",
   "execution_count": 15,
   "metadata": {},
   "outputs": [],
   "source": [
    "import sys\n",
    "import os\n",
    "import numpy as np\n",
    "import pandas as pd\n",
    "import sqlite3\n",
    "\n",
    "\n",
    "# function of creating connection\n",
    "def create_connection(db_file):\n",
    "    \"\"\" create a database connection to the SQLite database\n",
    "        specified by the db_file\n",
    "    :param db_file: database file\n",
    "    :return: Connection object or None\n",
    "    \"\"\"\n",
    "    try:\n",
    "        conn = sqlite3.connect(db_file)\n",
    "        return conn\n",
    "    except sqlite3.Error as e:\n",
    "        print(e)\n",
    "        sys.exit(1)\n",
    "    return None\n",
    "\n"
   ]
  },
  {
   "cell_type": "code",
   "execution_count": null,
   "metadata": {
    "collapsed": true
   },
   "outputs": [],
   "source": []
  },
  {
   "cell_type": "code",
   "execution_count": 24,
   "metadata": {
    "collapsed": true
   },
   "outputs": [],
   "source": [
    "dbname = \"/Users/jerome/Projects/metaxcan/MetaXcan/v1/data/Stomach.db\""
   ]
  },
  {
   "cell_type": "code",
   "execution_count": 41,
   "metadata": {},
   "outputs": [],
   "source": [
    "conn = create_connection(dbname)\n",
    "cur = conn.cursor() \n",
    "gene = '\"A3GALT2\"'\n",
    "sql = \"select * from weights where gene =\" + gene\n",
    "tmp_query = cur.execute(sql).fetchall()"
   ]
  },
  {
   "cell_type": "code",
   "execution_count": 32,
   "metadata": {},
   "outputs": [
    {
     "data": {
      "text/plain": [
       "'select * from weights where gene =\"A3GALT2\"'"
      ]
     },
     "execution_count": 32,
     "metadata": {},
     "output_type": "execute_result"
    }
   ],
   "source": [
    "sql\n"
   ]
  },
  {
   "cell_type": "code",
   "execution_count": 42,
   "metadata": {},
   "outputs": [
    {
     "data": {
      "text/plain": [
       "[(u'rs644879', u'A3GALT2', 6.27340257627e-05, u'T', u'C'),\n",
       " (u'rs6671539', u'A3GALT2', -0.000263706411293, u'G', u'A'),\n",
       " (u'rs34665119', u'A3GALT2', 0.00136937184868, u'A', u'G'),\n",
       " (u'rs11802938', u'A3GALT2', 0.000224462896528, u'G', u'A'),\n",
       " (u'rs1566230', u'A3GALT2', 0.000213158781561, u'T', u'C'),\n",
       " (u'rs12040608', u'A3GALT2', 2.0053067055e-05, u'C', u'T'),\n",
       " (u'rs12040669', u'A3GALT2', 0.00213220904559, u'C', u'T'),\n",
       " (u'rs10914671', u'A3GALT2', -0.000780960140634, u'C', u'T'),\n",
       " (u'rs6670552', u'A3GALT2', -0.000323079018941, u'C', u'T'),\n",
       " (u'rs12751707', u'A3GALT2', 0.000545219903371, u'A', u'G'),\n",
       " (u'rs4077439', u'A3GALT2', -0.00177721129844, u'G', u'A'),\n",
       " (u'rs12736971', u'A3GALT2', 0.003386056752, u'A', u'G'),\n",
       " (u'rs12567237', u'A3GALT2', 0.000969534243751, u'T', u'C'),\n",
       " (u'rs28880434', u'A3GALT2', 0.000673745385822, u'C', u'T'),\n",
       " (u'rs12726791', u'A3GALT2', 0.000642417574073, u'C', u'T'),\n",
       " (u'rs12723104', u'A3GALT2', 0.00112388295962, u'T', u'C'),\n",
       " (u'rs4641276', u'A3GALT2', -0.00146576563367, u'T', u'C'),\n",
       " (u'rs7527638', u'A3GALT2', 3.7845728255e-05, u'C', u'T'),\n",
       " (u'rs12041371', u'A3GALT2', 2.94000867471e-05, u'T', u'C'),\n",
       " (u'rs7523119', u'A3GALT2', -9.46718410663e-05, u'G', u'A'),\n",
       " (u'rs10798937', u'A3GALT2', 0.00199879978827, u'G', u'A'),\n",
       " (u'rs12734172', u'A3GALT2', 0.00366719426495, u'G', u'A'),\n",
       " (u'rs11061', u'A3GALT2', 0.00245416293977, u'G', u'A'),\n",
       " (u'rs11554674', u'A3GALT2', 0.00599062650516, u'G', u'A'),\n",
       " (u'rs4653044', u'A3GALT2', -0.00011686167905, u'A', u'C'),\n",
       " (u'rs12127865', u'A3GALT2', -0.000494935927443, u'A', u'G'),\n",
       " (u'rs6673519', u'A3GALT2', 0.00129788594882, u'C', u'T'),\n",
       " (u'rs12041636', u'A3GALT2', 1.01097486252e-05, u'T', u'C'),\n",
       " (u'rs12727428', u'A3GALT2', 8.49330277311e-05, u'G', u'A'),\n",
       " (u'rs11577204', u'A3GALT2', 0.00211817652866, u'G', u'A'),\n",
       " (u'rs6699152', u'A3GALT2', 0.000121410788492, u'G', u'A'),\n",
       " (u'rs12033491', u'A3GALT2', 2.25545015948e-05, u'A', u'G'),\n",
       " (u'rs4357495', u'A3GALT2', 0.000794405442648, u'G', u'A'),\n",
       " (u'rs10914716', u'A3GALT2', 7.10710129275e-06, u'C', u'T'),\n",
       " (u'rs1570686', u'A3GALT2', 5.63023844759e-06, u'G', u'A'),\n",
       " (u'rs12032426', u'A3GALT2', 0.00089950710113, u'C', u'A'),\n",
       " (u'rs12022060', u'A3GALT2', 0.000151050032475, u'A', u'G'),\n",
       " (u'rs12025675', u'A3GALT2', 0.00266018995625, u'G', u'A'),\n",
       " (u'rs10914726', u'A3GALT2', 0.0019532627603, u'G', u'A'),\n",
       " (u'rs114013172', u'A3GALT2', 0.00341271663275, u'A', u'G'),\n",
       " (u'rs12737304', u'A3GALT2', -1.57832044879e-06, u'C', u'T'),\n",
       " (u'rs1417964', u'A3GALT2', -0.0007598466269, u'T', u'C'),\n",
       " (u'rs2483842', u'A3GALT2', -4.68077009676e-05, u'A', u'G'),\n",
       " (u'rs4350172', u'A3GALT2', -2.92968462112e-06, u'C', u'A'),\n",
       " (u'rs477438', u'A3GALT2', 0.000748091886105, u'A', u'G'),\n",
       " (u'rs4652974', u'A3GALT2', -0.000181651625495, u'T', u'C'),\n",
       " (u'rs507641', u'A3GALT2', 0.000226613557346, u'T', u'G'),\n",
       " (u'rs472363', u'A3GALT2', 9.9518455555e-06, u'T', u'C'),\n",
       " (u'rs508927', u'A3GALT2', 5.94436093949e-05, u'T', u'C'),\n",
       " (u'rs549048', u'A3GALT2', 0.000224412333589, u'T', u'C'),\n",
       " (u'rs771131', u'A3GALT2', 8.45030746577e-06, u'T', u'G')]"
      ]
     },
     "execution_count": 42,
     "metadata": {},
     "output_type": "execute_result"
    }
   ],
   "source": [
    "tmp_query\n"
   ]
  },
  {
   "cell_type": "code",
   "execution_count": 44,
   "metadata": {
    "collapsed": true
   },
   "outputs": [],
   "source": [
    "sql = \"select rsid from weights where gene =\" + gene\n",
    "tmp_query = cur.execute(sql).fetchall()"
   ]
  },
  {
   "cell_type": "code",
   "execution_count": 45,
   "metadata": {},
   "outputs": [],
   "source": [
    "str(tmp_query[0])\n",
    "tmp_rsid = map(lambda x: str(x[0]), tmp_query)\n"
   ]
  },
  {
   "cell_type": "code",
   "execution_count": 46,
   "metadata": {},
   "outputs": [
    {
     "data": {
      "text/plain": [
       "['rs644879',\n",
       " 'rs6671539',\n",
       " 'rs34665119',\n",
       " 'rs11802938',\n",
       " 'rs1566230',\n",
       " 'rs12040608',\n",
       " 'rs12040669',\n",
       " 'rs10914671',\n",
       " 'rs6670552',\n",
       " 'rs12751707',\n",
       " 'rs4077439',\n",
       " 'rs12736971',\n",
       " 'rs12567237',\n",
       " 'rs28880434',\n",
       " 'rs12726791',\n",
       " 'rs12723104',\n",
       " 'rs4641276',\n",
       " 'rs7527638',\n",
       " 'rs12041371',\n",
       " 'rs7523119',\n",
       " 'rs10798937',\n",
       " 'rs12734172',\n",
       " 'rs11061',\n",
       " 'rs11554674',\n",
       " 'rs4653044',\n",
       " 'rs12127865',\n",
       " 'rs6673519',\n",
       " 'rs12041636',\n",
       " 'rs12727428',\n",
       " 'rs11577204',\n",
       " 'rs6699152',\n",
       " 'rs12033491',\n",
       " 'rs4357495',\n",
       " 'rs10914716',\n",
       " 'rs1570686',\n",
       " 'rs12032426',\n",
       " 'rs12022060',\n",
       " 'rs12025675',\n",
       " 'rs10914726',\n",
       " 'rs114013172',\n",
       " 'rs12737304',\n",
       " 'rs1417964',\n",
       " 'rs2483842',\n",
       " 'rs4350172',\n",
       " 'rs477438',\n",
       " 'rs4652974',\n",
       " 'rs507641',\n",
       " 'rs472363',\n",
       " 'rs508927',\n",
       " 'rs549048',\n",
       " 'rs771131']"
      ]
     },
     "execution_count": 46,
     "metadata": {},
     "output_type": "execute_result"
    }
   ],
   "source": [
    "tmp_rsid\n"
   ]
  },
  {
   "cell_type": "code",
   "execution_count": 47,
   "metadata": {},
   "outputs": [
    {
     "name": "stderr",
     "output_type": "stream",
     "text": [
      "/Users/jerome/anaconda3/envs/metaxcan/lib/python2.7/site-packages/ipykernel_launcher.py:1: FutureWarning: pd.match() is deprecated and will be removed in a future version\n",
      "  \"\"\"Entry point for launching an IPython kernel.\n"
     ]
    }
   ],
   "source": [
    "index = pd.match(tmp_rsid, tmp_rsid)"
   ]
  },
  {
   "cell_type": "code",
   "execution_count": 50,
   "metadata": {},
   "outputs": [
    {
     "name": "stderr",
     "output_type": "stream",
     "text": [
      "/Users/jerome/anaconda3/envs/metaxcan/lib/python2.7/site-packages/ipykernel_launcher.py:1: FutureWarning: pd.match() is deprecated and will be removed in a future version\n",
      "  \"\"\"Entry point for launching an IPython kernel.\n"
     ]
    }
   ],
   "source": [
    "tmp_array = pd.match([1,2,3,9],[2,3,5,7])\n"
   ]
  },
  {
   "cell_type": "code",
   "execution_count": 51,
   "metadata": {},
   "outputs": [
    {
     "data": {
      "text/plain": [
       "numpy.ndarray"
      ]
     },
     "execution_count": 51,
     "metadata": {},
     "output_type": "execute_result"
    }
   ],
   "source": [
    "type(tmp_array)"
   ]
  },
  {
   "cell_type": "code",
   "execution_count": 53,
   "metadata": {},
   "outputs": [
    {
     "data": {
      "text/plain": [
       "array([0, 1])"
      ]
     },
     "execution_count": 53,
     "metadata": {},
     "output_type": "execute_result"
    }
   ],
   "source": [
    "tmp_array[tmp_array>-1]"
   ]
  },
  {
   "cell_type": "code",
   "execution_count": 54,
   "metadata": {},
   "outputs": [
    {
     "data": {
      "text/plain": [
       "array([False,  True,  True, False], dtype=bool)"
      ]
     },
     "execution_count": 54,
     "metadata": {},
     "output_type": "execute_result"
    }
   ],
   "source": [
    "tmp_array > -1\n"
   ]
  },
  {
   "cell_type": "code",
   "execution_count": 55,
   "metadata": {},
   "outputs": [
    {
     "ename": "TypeError",
     "evalue": "only integer scalar arrays can be converted to a scalar index",
     "output_type": "error",
     "traceback": [
      "\u001b[0;31m---------------------------------------------------------------------------\u001b[0m",
      "\u001b[0;31mTypeError\u001b[0m                                 Traceback (most recent call last)",
      "\u001b[0;32m<ipython-input-55-4683ee07ae66>\u001b[0m in \u001b[0;36m<module>\u001b[0;34m()\u001b[0m\n\u001b[0;32m----> 1\u001b[0;31m \u001b[0mtmp_rsid\u001b[0m\u001b[0;34m[\u001b[0m\u001b[0mtmp_array\u001b[0m\u001b[0;34m]\u001b[0m\u001b[0;34m\u001b[0m\u001b[0m\n\u001b[0m",
      "\u001b[0;31mTypeError\u001b[0m: only integer scalar arrays can be converted to a scalar index"
     ]
    }
   ],
   "source": [
    "tmp_rsid[tmp_array]\n"
   ]
  },
  {
   "cell_type": "code",
   "execution_count": 61,
   "metadata": {},
   "outputs": [
    {
     "data": {
      "text/plain": [
       "array([-1,  0])"
      ]
     },
     "execution_count": 61,
     "metadata": {},
     "output_type": "execute_result"
    }
   ],
   "source": [
    "tmp_array[tmp_array[tmp_array>-1].tolist()]\n",
    "\n",
    "\n",
    "\n",
    "\n"
   ]
  },
  {
   "cell_type": "code",
   "execution_count": 62,
   "metadata": {},
   "outputs": [
    {
     "data": {
      "text/plain": [
       "array([0, 1])"
      ]
     },
     "execution_count": 62,
     "metadata": {},
     "output_type": "execute_result"
    }
   ],
   "source": [
    "tmp_array[tmp_array>-1]"
   ]
  },
  {
   "cell_type": "code",
   "execution_count": 68,
   "metadata": {},
   "outputs": [
    {
     "data": {
      "text/plain": [
       "array(['rs6671539', 'rs34665119', 'rs11802938'],\n",
       "      dtype='|S11')"
      ]
     },
     "execution_count": 68,
     "metadata": {},
     "output_type": "execute_result"
    }
   ],
   "source": [
    "np.array(tmp_rsid)[np.array([1,2,3])]\n"
   ]
  },
  {
   "cell_type": "code",
   "execution_count": 78,
   "metadata": {},
   "outputs": [
    {
     "data": {
      "text/plain": [
       "array([7, 2, 7, 4, 7])"
      ]
     },
     "execution_count": 78,
     "metadata": {},
     "output_type": "execute_result"
    }
   ],
   "source": [
    "np.array(tmp_rsid)[:3]\n",
    "c = np.array([1,2,3,4,5])\n",
    "c[np.array([0,2,4])] = 7,7,7\n",
    "c"
   ]
  },
  {
   "cell_type": "code",
   "execution_count": null,
   "metadata": {
    "collapsed": true
   },
   "outputs": [],
   "source": []
  },
  {
   "cell_type": "code",
   "execution_count": 79,
   "metadata": {},
   "outputs": [
    {
     "name": "stderr",
     "output_type": "stream",
     "text": [
      "/Users/jerome/anaconda3/envs/metaxcan/lib/python2.7/site-packages/ipykernel_launcher.py:3: FutureWarning: pd.match() is deprecated and will be removed in a future version\n",
      "  This is separate from the ipykernel package so we can avoid doing imports until\n"
     ]
    }
   ],
   "source": [
    "a = np.array([1,2,3,4,5])\n",
    "b = np.array([9,1,2,3,4,5,6,7,8])\n",
    "indexab = pd.match(a,b)\n"
   ]
  },
  {
   "cell_type": "code",
   "execution_count": 80,
   "metadata": {},
   "outputs": [
    {
     "data": {
      "text/plain": [
       "array([1, 2, 3, 4, 5])"
      ]
     },
     "execution_count": 80,
     "metadata": {},
     "output_type": "execute_result"
    }
   ],
   "source": [
    "indexab\n"
   ]
  },
  {
   "cell_type": "code",
   "execution_count": 82,
   "metadata": {},
   "outputs": [
    {
     "data": {
      "text/plain": [
       "array([ True,  True,  True,  True,  True], dtype=bool)"
      ]
     },
     "execution_count": 82,
     "metadata": {},
     "output_type": "execute_result"
    }
   ],
   "source": [
    "indexab > 0\n",
    "\n"
   ]
  },
  {
   "cell_type": "code",
   "execution_count": 83,
   "metadata": {},
   "outputs": [
    {
     "data": {
      "text/plain": [
       "array([1, 2, 3, 4, 5])"
      ]
     },
     "execution_count": 83,
     "metadata": {},
     "output_type": "execute_result"
    }
   ],
   "source": [
    "a[indexab > 0]"
   ]
  },
  {
   "cell_type": "code",
   "execution_count": null,
   "metadata": {
    "collapsed": true
   },
   "outputs": [],
   "source": []
  },
  {
   "cell_type": "code",
   "execution_count": null,
   "metadata": {
    "collapsed": true
   },
   "outputs": [],
   "source": [
    "#joint GBJ\n"
   ]
  },
  {
   "cell_type": "code",
   "execution_count": 84,
   "metadata": {
    "collapsed": true
   },
   "outputs": [],
   "source": [
    "cov_matrix = np.loadtxt(\"/Users/jerome/Projects/metaxcan/MetaXcan/v1/data/TOP3B.cov\")"
   ]
  },
  {
   "cell_type": "code",
   "execution_count": 85,
   "metadata": {},
   "outputs": [
    {
     "data": {
      "text/plain": [
       "(94, 94)"
      ]
     },
     "execution_count": 85,
     "metadata": {},
     "output_type": "execute_result"
    }
   ],
   "source": [
    "cov_matrix.shape\n"
   ]
  },
  {
   "cell_type": "code",
   "execution_count": 86,
   "metadata": {
    "collapsed": true
   },
   "outputs": [],
   "source": [
    "snp_rsid = pd.read_table(\"/Users/jerome/Projects/metaxcan/MetaXcan/v1/data/TOP3B.snplist\")"
   ]
  },
  {
   "cell_type": "code",
   "execution_count": 87,
   "metadata": {},
   "outputs": [
    {
     "ename": "TypeError",
     "evalue": "Required argument 'shape' (pos 1) not found",
     "output_type": "error",
     "traceback": [
      "\u001b[0;31m---------------------------------------------------------------------------\u001b[0m",
      "\u001b[0;31mTypeError\u001b[0m                                 Traceback (most recent call last)",
      "\u001b[0;32m<ipython-input-87-6f2a11e6f98a>\u001b[0m in \u001b[0;36m<module>\u001b[0;34m()\u001b[0m\n\u001b[1;32m      1\u001b[0m \u001b[0mM\u001b[0m \u001b[0;34m=\u001b[0m \u001b[0mlen\u001b[0m\u001b[0;34m(\u001b[0m\u001b[0msnp_rsid\u001b[0m\u001b[0;34m)\u001b[0m \u001b[0;31m#number of snps\u001b[0m\u001b[0;34m\u001b[0m\u001b[0m\n\u001b[1;32m      2\u001b[0m \u001b[0mN\u001b[0m \u001b[0;34m=\u001b[0m \u001b[0;36m1\u001b[0m\u001b[0;34m\u001b[0m\u001b[0m\n\u001b[0;32m----> 3\u001b[0;31m \u001b[0mweights\u001b[0m \u001b[0;34m=\u001b[0m \u001b[0mnp\u001b[0m\u001b[0;34m.\u001b[0m\u001b[0mzeros\u001b[0m\u001b[0;34m(\u001b[0m\u001b[0mshpae\u001b[0m \u001b[0;34m=\u001b[0m \u001b[0;34m(\u001b[0m\u001b[0mM\u001b[0m\u001b[0;34m,\u001b[0m \u001b[0mN\u001b[0m\u001b[0;34m)\u001b[0m\u001b[0;34m)\u001b[0m\u001b[0;34m\u001b[0m\u001b[0m\n\u001b[0m\u001b[1;32m      4\u001b[0m \u001b[0;31m#for i in range(N):\u001b[0m\u001b[0;34m\u001b[0m\u001b[0;34m\u001b[0m\u001b[0m\n\u001b[1;32m      5\u001b[0m \u001b[0mdbname\u001b[0m \u001b[0;34m=\u001b[0m \u001b[0;34m\"/Users/jerome/Projects/metaxcan/MetaXcan/v1/data/Stomach.db\"\u001b[0m\u001b[0;34m\u001b[0m\u001b[0m\n",
      "\u001b[0;31mTypeError\u001b[0m: Required argument 'shape' (pos 1) not found"
     ]
    }
   ],
   "source": [
    "M = len(snp_rsid) #number of snps\n",
    "N = 1\n",
    "weights = np.zeros(shape = (M, N))\n",
    "#for i in range(N):\n",
    "dbname = \"/Users/jerome/Projects/metaxcan/MetaXcan/v1/data/Stomach.db\"\n",
    "conn = create_connection(dbname)\n",
    "cur = conn.cursor()  \n",
    "sql_q = 'select * from weights where gene = \"' + gene + '\"'\n",
    "tmp_query = cur.execute(sql_q).fetchall()\n",
    "rsid_in_db = map(lambda x: str(x[0]), tmp_query)\n",
    "index = pd.match(rsid_in_db, snp_rsid)\n",
    "indi = index[index > -1]\n",
    "# extract the weight\n",
    "sql_q = 'select * from weights where gene = \"' + gene + '\"'\n",
    "tmp_query = cur.execute(sql_q).fetchall()\n",
    "tmp_weights = np.array(map(lambda x: str(x[2]), tmp_query))\n",
    "weights[indi,i] = tmp_weights[index > -1]"
   ]
  },
  {
   "cell_type": "code",
   "execution_count": null,
   "metadata": {
    "collapsed": true
   },
   "outputs": [],
   "source": []
  },
  {
   "cell_type": "code",
   "execution_count": null,
   "metadata": {
    "collapsed": true
   },
   "outputs": [],
   "source": []
  },
  {
   "cell_type": "code",
   "execution_count": null,
   "metadata": {
    "collapsed": true
   },
   "outputs": [],
   "source": []
  },
  {
   "cell_type": "code",
   "execution_count": null,
   "metadata": {
    "collapsed": true
   },
   "outputs": [],
   "source": []
  },
  {
   "cell_type": "code",
   "execution_count": null,
   "metadata": {
    "collapsed": true
   },
   "outputs": [],
   "source": []
  }
 ],
 "metadata": {
  "kernelspec": {
   "display_name": "Python 2",
   "language": "python",
   "name": "python2"
  },
  "language_info": {
   "codemirror_mode": {
    "name": "ipython",
    "version": 2
   },
   "file_extension": ".py",
   "mimetype": "text/x-python",
   "name": "python",
   "nbconvert_exporter": "python",
   "pygments_lexer": "ipython2",
   "version": "2.7.14"
  }
 },
 "nbformat": 4,
 "nbformat_minor": 2
}
