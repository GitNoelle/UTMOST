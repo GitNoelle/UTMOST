{
 "cells": [
  {
   "cell_type": "markdown",
   "metadata": {},
   "source": [
    "\n",
    "### module"
   ]
  },
  {
   "cell_type": "code",
   "execution_count": 1,
   "metadata": {
    "collapsed": true
   },
   "outputs": [],
   "source": [
    "import readline\n",
    "import sys\n",
    "import os\n",
    "import numpy as np\n",
    "import pandas as pd\n",
    "import sqlite3\n",
    "from fileinput import filename\n",
    "from sys import argv\n",
    "import rpy2\n",
    "from rpy2.robjects.packages import importr\n",
    "from rpy2.robjects import r\n",
    "import rpy2.robjects.packages as rpackages\n",
    "from rpy2.robjects.numpy2ri import numpy2ri\n",
    "from rpy2.rinterface import RRuntimeError\n",
    "import logging\n",
    "import metax.Logging as Logging\n"
   ]
  },
  {
   "cell_type": "markdown",
   "metadata": {},
   "source": [
    "\n",
    "\n",
    "### functions "
   ]
  },
  {
   "cell_type": "code",
   "execution_count": 2,
   "metadata": {
    "collapsed": true
   },
   "outputs": [],
   "source": [
    "# function of creating connection\n",
    "def create_connection(db_file):\n",
    "    \"\"\" create a database connection to the SQLite database\n",
    "        specified by the db_file\n",
    "    :param db_file: database file\n",
    "    :return: Connection object or None\n",
    "    \"\"\"\n",
    "    try:\n",
    "        conn = sqlite3.connect(db_file)\n",
    "        return conn\n",
    "    except sqlite3.Error as e:\n",
    "        print(e)\n",
    "        sys.exit(1)\n",
    "    return None\n",
    "\n",
    "# function of matching two lists\n",
    "def match_list(a, b):\n",
    "    \"\"\" find the indices of matching element \n",
    "    :param  a: list a \n",
    "            b: list b\n",
    "    :return: The indices of elements in list a in list b \n",
    "    \"\"\"\n",
    "    return np.array([ b.index(x) if x in b else -1 for x in a ])\n",
    "\n",
    "# install r packages\n",
    "def r_requirement():\n",
    "    \"\"\" Install the required R packages\n",
    "    \"\"\"\n",
    "    utils = rpackages.importr('utils')\n",
    "    # select a mirror for R packages\n",
    "    utils.chooseCRANmirror(ind=1) # select the first mirror in the list\n",
    "\n",
    "    # install R packages     \n",
    "    importr_try(\"GBJ\")\n",
    "    # multiple packages installation\n",
    "    # from rpy2.robjects.vectors import StrVector \n",
    "    # if len(package_name) > 0:\n",
    "    #     utils.install_packages(StrVector(package_name))\n",
    "\n",
    "def importr_try(pkgname):\n",
    "    \"\"\" Load the R packages\n",
    "    :param  pkgname: the name of the package\n",
    "    \"\"\"\n",
    "    utils = rpackages.importr('utils')\n",
    "    try:\n",
    "        rpack = importr(pkgname)\n",
    "    except RRuntimeError:\n",
    "        utils.install_packages(pkgname)\n",
    "        rpack = importr(pkgname)\n",
    "    return rpack   "
   ]
  },
  {
   "cell_type": "markdown",
   "metadata": {},
   "source": [
    "\n",
    "### args"
   ]
  },
  {
   "cell_type": "code",
   "execution_count": 3,
   "metadata": {
    "collapsed": true
   },
   "outputs": [],
   "source": [
    "nstart = 1\n",
    "    \n",
    "nend = 15605\n",
    "\n",
    "# current_dir\n",
    "current_dir = \"/ysm-gpfs/home/zy92/project/UTMOST/\"\n",
    "\n",
    "# single mask dir\n",
    "single_mask_dir = current_dir + \"database/mask/SCZ/\"\n",
    "\n",
    "# info file\n",
    "info_file = current_dir + \"database/gene_info/gene_info.txt\" \n",
    "\n",
    "# database dir\n",
    "db_dir = current_dir + \"database/weight_db/\"\n",
    "\n",
    "# covariance dir \n",
    "cov_dir = current_dir + \"database/cov/1226/\"\n",
    "\n",
    "# output dir \n",
    "out_dir = current_dir + \"results/\"\n",
    "\n",
    "# read list of genes\n",
    "gene_info = pd.read_table(info_file)\n",
    "\n",
    "# output name\n",
    "output_name = \"scz\""
   ]
  },
  {
   "cell_type": "markdown",
   "metadata": {},
   "source": [
    "\n",
    "### main function"
   ]
  },
  {
   "cell_type": "code",
   "execution_count": null,
   "metadata": {
    "collapsed": true
   },
   "outputs": [],
   "source": []
  },
  {
   "cell_type": "code",
   "execution_count": null,
   "metadata": {
    "collapsed": true
   },
   "outputs": [],
   "source": []
  }
 ],
 "metadata": {
  "kernelspec": {
   "display_name": "Python 2",
   "language": "python",
   "name": "python2"
  },
  "language_info": {
   "codemirror_mode": {
    "name": "ipython",
    "version": 3
   },
   "file_extension": ".py",
   "mimetype": "text/x-python",
   "name": "python",
   "nbconvert_exporter": "python",
   "pygments_lexer": "ipython3",
   "version": "3.6.1"
  }
 },
 "nbformat": 4,
 "nbformat_minor": 2
}
